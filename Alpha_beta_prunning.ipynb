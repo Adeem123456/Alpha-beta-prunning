{
  "nbformat": 4,
  "nbformat_minor": 0,
  "metadata": {
    "colab": {
      "provenance": [],
      "authorship_tag": "ABX9TyMxNS8u8pFRVvgSzekRPV0L",
      "include_colab_link": true
    },
    "kernelspec": {
      "name": "python3",
      "display_name": "Python 3"
    },
    "language_info": {
      "name": "python"
    }
  },
  "cells": [
    {
      "cell_type": "markdown",
      "metadata": {
        "id": "view-in-github",
        "colab_type": "text"
      },
      "source": [
        "<a href=\"https://colab.research.google.com/github/Adeem123456/Alpha-beta-prunning/blob/main/Alpha_beta_prunning.ipynb\" target=\"_parent\"><img src=\"https://colab.research.google.com/assets/colab-badge.svg\" alt=\"Open In Colab\"/></a>"
      ]
    },
    {
      "cell_type": "code",
      "execution_count": null,
      "metadata": {
        "id": "E60VlujNueG7"
      },
      "outputs": [],
      "source": [
        "import math\n",
        "\n",
        "def minimax(board, depth, alpha, beta, is_maximizing):\n",
        "    # Base case: If the game is over or reached the maximum depth\n",
        "    if game_over(board) or depth == 0:\n",
        "        return evaluate(board)\n",
        "\n",
        "    if is_maximizing:\n",
        "        max_eval = -math.inf\n",
        "        for move in possible_moves(board):\n",
        "            board[move] = 'X'\n",
        "            eval = minimax(board, depth - 1, alpha, beta, False)\n",
        "            board[move] = ' '  # Undo the move\n",
        "            max_eval = max(max_eval, eval)\n",
        "            alpha = max(alpha, eval)\n",
        "            if beta <= alpha:\n",
        "                break  # Beta cut-off\n",
        "        return max_eval\n",
        "    else:\n",
        "        min_eval = math.inf\n",
        "        for move in possible_moves(board):\n",
        "            board[move] = 'O'\n",
        "            eval = minimax(board, depth - 1, alpha, beta, True)\n",
        "            board[move] = ' '  # Undo the move\n",
        "            min_eval = min(min_eval, eval)\n",
        "            beta = min(beta, eval)\n",
        "            if beta <= alpha:\n",
        "                break  # Alpha cut-off\n",
        "        return min_eval\n",
        "\n",
        "def alpha_beta_pruning(board, depth):\n",
        "    return minimax(board, depth, -math.inf, math.inf, True)\n",
        "\n",
        "# Example usage:\n",
        "def game_over(board):\n",
        "    # Check if the game is over\n",
        "    pass\n",
        "\n",
        "def evaluate(board):\n",
        "    # Evaluate the board position\n",
        "    pass\n",
        "\n",
        "def possible_moves(board):\n",
        "    # Generate possible moves\n",
        "    pass\n",
        "\n",
        "# Example Tic-Tac-Toe board representation:\n",
        "board = {\n",
        "    (0, 0): ' ', (0, 1): ' ', (0, 2): ' ',\n",
        "    (1, 0): ' ', (1, 1): ' ', (1, 2): ' ',\n",
        "    (2, 0): ' ', (2, 1): ' ', (2, 2): ' '\n",
        "}\n",
        "\n",
        "depth = 3\n",
        "best_move = alpha_beta_pruning(board, depth)\n",
        "print(\"Best move:\", best_move)\n"
      ]
    }
  ]
}